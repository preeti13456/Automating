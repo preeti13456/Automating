{
  "nbformat": 4,
  "nbformat_minor": 0,
  "metadata": {
    "colab": {
      "provenance": [],
      "authorship_tag": "ABX9TyOlALBmKwSSVDXBcLetTrjm",
      "include_colab_link": true
    },
    "kernelspec": {
      "name": "python3",
      "display_name": "Python 3"
    },
    "language_info": {
      "name": "python"
    }
  },
  "cells": [
    {
      "cell_type": "markdown",
      "metadata": {
        "id": "view-in-github",
        "colab_type": "text"
      },
      "source": [
        "<a href=\"https://colab.research.google.com/github/preeti13456/Automating/blob/main/Automating.ipynb\" target=\"_parent\"><img src=\"https://colab.research.google.com/assets/colab-badge.svg\" alt=\"Open In Colab\"/></a>"
      ]
    },
    {
      "cell_type": "code",
      "execution_count": 1,
      "metadata": {
        "id": "RCAvcypizcqp"
      },
      "outputs": [],
      "source": [
        "import requests\n",
        "from bs4 import BeautifulSoup"
      ]
    },
    {
      "cell_type": "code",
      "source": [
        "import pandas as pd\n",
        "import time\n",
        "import random"
      ],
      "metadata": {
        "id": "cNwaT8Dk06uM"
      },
      "execution_count": 2,
      "outputs": []
    },
    {
      "cell_type": "code",
      "source": [
        "def get_instagram_profile(username):\n",
        "    \"\"\"Fetches and parses data from an Instagram profile.\n",
        "\n",
        "    Args:\n",
        "        username (str): The username of the Instagram profile to scrape.\n",
        "\n",
        "    Returns:\n",
        "        dict: A dictionary containing profile information or None if unsuccessful.\n",
        "\n",
        "    Raises:\n",
        "        requests.exceptions.RequestException: If there's an issue with the request.\n",
        "    \"\"\"\n",
        "\n",
        "    url = f\"https://www.instagram.com/{username}/\"\n",
        "    headers = {'User-Agent': 'Mozilla/5.0 (Windows NT 10.0; Win64; x64) AppleWebKit/537.36 (KHTML, like Gecko) Chrome/116.0.0.0 Safari/537.36'}\n",
        "\n",
        "    try:\n",
        "        response = requests.get(url, headers=headers)\n",
        "        response.raise_for_status()  # Raise an exception for non-200 status codes\n",
        "\n",
        "        soup = BeautifulSoup(response.content, 'html.parser')\n",
        "\n",
        "        follower_count_element = soup.find('span', class_='g41i0')\n",
        "        follower_count = follower_count_element.text.strip() if follower_count_element else None\n",
        "\n",
        "        # Extract engagement rate (based on recent posts)\n",
        "        posts = soup.find_all('div', class_='e8sjw')\n",
        "        likes_sum = 0\n",
        "        comments_sum = 0\n",
        "        post_count = 0\n",
        "\n",
        "        for post in posts:\n",
        "            likes_element = post.find('span', class_='g41i0')\n",
        "            comments_element = post.find('span', class_='g41i0')\n",
        "\n",
        "            if likes_element and comments_element:\n",
        "                likes_sum += int(likes_element.text.strip())\n",
        "                comments_sum += int(comments_element.text.strip())\n",
        "                post_count += 1\n",
        "\n",
        "        # Check for valid values before calculating engagement rate\n",
        "        if follower_count and post_count:\n",
        "            engagement_rate = (likes_sum + comments_sum) / (follower_count * post_count) * 100\n",
        "        else:\n",
        "            engagement_rate = None\n",
        "\n",
        "        return {'username': username, 'follower_count': follower_count, 'engagement_rate': engagement_rate}\n",
        "\n",
        "    except requests.exceptions.RequestException as e:\n",
        "        print(f\"Error fetching profile for {username}: {e}\")\n",
        "        return None\n",
        "\n",
        "\n",
        "def collect_influencer_data(usernames):\n",
        "    \"\"\"Collects data for a list of Instagram usernames.\n",
        "\n",
        "    Args:\n",
        "        usernames (list): A list of Instagram usernames.\n",
        "\n",
        "    Returns:\n",
        "        list: A list of dictionaries containing profile data or None values.\n",
        "    \"\"\"\n",
        "\n",
        "    data = []\n",
        "    for username in usernames:\n",
        "        profile_data = get_instagram_profile(username)\n",
        "        if profile_data:\n",
        "            data.append(profile_data)\n",
        "        # Add a random delay to avoid rate limiting\n",
        "        time.sleep(random.uniform(1, 3))\n",
        "    return data\n",
        "\n",
        "\n",
        "# Example usage\n",
        "usernames = ['username1', 'username2']\n",
        "data = collect_influencer_data(usernames)\n",
        "\n",
        "# Save data to a CSV file (assuming pandas is installed)\n",
        "if data:\n",
        "    df = pd.DataFrame(data)\n",
        "    df.to_csv('influencer_data.csv', index=False)"
      ],
      "metadata": {
        "id": "hBpkShl12xah"
      },
      "execution_count": 6,
      "outputs": []
    },
    {
      "cell_type": "code",
      "source": [],
      "metadata": {
        "id": "2NRRH-Nf3Hx9"
      },
      "execution_count": null,
      "outputs": []
    }
  ]
}